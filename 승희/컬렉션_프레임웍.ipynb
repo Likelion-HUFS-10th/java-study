{
 "cells": [
  {
   "cell_type": "markdown",
   "metadata": {},
   "source": [
    "## `컬렉션 프레임웍`"
   ]
  },
  {
   "cell_type": "markdown",
   "metadata": {},
   "source": [
    "### 컬렉션 프레임웍\n",
    "- 다수의 데이터를 쉽게 처리할 수 있는 방법을 제공하는 클래스들\n",
    "- 컬렉션 : 다수의 데이터 / 데이터 그룹\n",
    "\n",
    "> ### 1.1 컬렉션 프레임웍의 인터페이스\n",
    "- List : 순서가 있는 데이터의 집합 / 중복 허용\n",
    "- Set : 순서 유지하지 않는 데이터의 집합 / 중복 허용 x\n",
    "- Map : key와 value 쌍으로 이루어진 데이터의 집합 / 순서 유지 x / 키 중복 x\n",
    "\n",
    "#### Collection 인터페이스\n",
    "- 인터페이스 내의 메서드\n",
    "- boolean add(Object o) 객체들을 추가\n",
    "- void clear() Collection의 모든 객체 삭제\n",
    "- ...\n",
    "\n",
    "#### List 인터페이스\n",
    "- 중복 허용 / 저장 순서 유지\n",
    "- 인터페이스 구현한 클래스 => vector, ArrayList, LinkedList\n",
    "- 인터페이스 내의 메서드\n",
    "- void add(int index, Object element) 저장된 위치에 객체들을 추가\n",
    "- int indexOf(Object o) 저장된 위치의 객체 반환\n",
    "- void sort(Comparator c) 비교자로 정렬\n",
    "\n",
    "#### Set 인터페이스\n",
    "- 중복 허용 하지 않음 / 저장 순서 유지 안함\n",
    "- 인터페이스 구현한 클래스 => HashSet, SortedSet\n",
    "\n",
    "#### Map 인터페이스\n",
    "- key 와 value 를 하나의 쌍으로 묶어서 저장\n",
    "- 인터페이스 구현한 클래스 => Hashtable, HashMap, SortedMap\n",
    "- 인터페이스 내의 메서드\n",
    "- boolean containsKey key 객체와 일치하는 Map의 key 객체가 있는지 확인\n",
    "- Object get(Object key) key 객체에 대응하는 value 객체 찾아서 반환\n",
    "- Collection values() 모든 value 객체 반환\n",
    "\n",
    "#### Map.Entry 인터페이스\n",
    "- Map 인터페이스의 내부 인터페이스\n",
    "- 인터페이스의 메서드\n",
    "- boolean equals(Object o) 동일한 Entry 인지 비교\n",
    "- Object getValue() value 객체를 반환한다\n",
    "- Object setValue(Object value) Entry의 value 객체를 지정된 객체로 바꿈\n",
    "- => 주로 Map 을 반복할 때 사용한다고 함\n",
    "\n",
    "> ### 1.2 ArrayList\n",
    "- Object 배열을 이용하여 데이터를 순차적으로 저장\n",
    "- 더 이상 공간이 없으면 기존의 내용을 새로운 배열로 복사하고 난 뒤에 저장\n",
    "- 선언된 배열의 타입이 모든 객체의 조상인 Object 여서 모든 종류의 객체를 담을 수 있음\n",
    "- 클래스의 메서드\n",
    "    - ArrayList() 생성\n",
    "    - ArrayList(Collection c) 컬렉션이 저장된 배열 생성\n",
    "    - boolean addAll(Collection c) 주어진 컬렉션의 모든 객체 저장\n",
    "\n",
    "- Vector의 경우 trimToSize() 를 호출하면 새로운 배열을 생성, 빈공간을 없앰\n",
    "- ensureCapacity(6) => 새로운 인스턴스 생성해서 capacity가 최소한 6이 되도록 함 / 이미 6을 넘었으면 아무런 조치 x / 모자라면 자동적으로 2배로 늘림\n",
    "- remove 시에는 지정된 위치의 객체 반환하고, 삭제할 데이터 바로 아래의 데이터를 위로 복사해서 삭제 할 객체를 덮어씀 (삭제하고자 하는 객체가 맨 마지막이라면 null로)\n",
    "\n",
    "> ### 1.3 LinkedList\n",
    "- 자료구조가 간단 / 데이터 접근시간이 가장 빠름\n",
    "- 단점 : 크기 변경 불가 / 비순차적인 데이터의 추가 혹은 삭제가 오래걸림\n",
    "- 복사 과정이 없어서 처리가 빠르다\n",
    "- 더블 링크드 리스트는 맨 마지막 요소가 맨 앞 요소와 연결되어 있음 => 자바에서의 링크드 리스트는 더블링크드 리스트"
   ]
  },
  {
   "cell_type": "markdown",
   "metadata": {},
   "source": [
    "#### LinkedList 와 ArrayList의 비교\n",
    "- 순차적으로 추가 / 삭제할 경우 : ArrayList 가 빠름. 그러나, 초기 설정의 저장공간이 모자랄 경우에는 링크드가 빠름.\n",
    "- 중간 데이터를 추가 / 삭제할 경우 : LinkedList가 빠름. ArrayList 는 재배치해줘야 해서.\n",
    "- ArrayList 는 주소로 요소를 바로 찾을 수 있음\n",
    "- LinkedList는 처음부터 찾고 있는 데이터까지 순차적으로 이동해야 해서 접근 시간이 오래 걸림."
   ]
  },
  {
   "cell_type": "markdown",
   "metadata": {},
   "source": [
    "> ### 1.4 스택과 큐\n",
    "- 스택 - ArrayList\n",
    "- 큐 - LinkedList => ArrayList 를 사용하게 되면 데이터를 꺼낼 때마다 빈 공간을 채우기 위해서 복사가 발생해야 해서 비효율적\n",
    "- null은 저장할 수 없음 => 저장 시에 NullPointerException 발생\n",
    "\n"
   ]
  },
  {
   "cell_type": "markdown",
   "metadata": {},
   "source": [
    "> ### 1.5 Iterator, ListIterator Enumeration\n",
    "1. Iterator\n",
    "- 컬렉션에 저장된 요소들을 읽어오는 방법을 표준화 한 것\n",
    "- 주로 while 문 사용\n",
    "- hasNext() / Next() 이용하여 다음으로 이동하고, remove() 로 next()로 읽어온 요소를 삭제함."
   ]
  },
  {
   "cell_type": "markdown",
   "metadata": {},
   "source": [
    "```Java\n",
    "Collection c = new ArrayList(); // 참조변수의 타입을 컬렉션으로!\n",
    "Iterator it = c.iterator();\n",
    "while (it.hasNext()){\n",
    "    System.out.println(it.next());\n",
    "}\n",
    "```"
   ]
  },
  {
   "cell_type": "markdown",
   "metadata": {},
   "source": [
    "- 참조변수의 타입을 컬렉션으로 해야 하는 이유\n",
    "    - ArrayList에만 있는 메서드를 사용하려고 하는게 아니라면, Collection 타입의 참조변수로 선언하는 것이 가장 좋음.\n",
    "    - Collection에 정의되지 않은 메서드를 호출했을 가능성이 없기에\n",
    "\n",
    "- 클래스가 Map 인 경우의 Iterator\n",
    "    ```Java\n",
    "    Iterator it = map.entrySet().iterator();\n",
    "    ```\n",
    "    - entrySet의 실행 결과가 Set이기 때문에 이에 대하여 iterator 를 호출하는 것!\n",
    "    - 클래스가 Map이라면 바로 Iterator 호출은 불가능!\n",
    "\n",
    "- ListIterator / Enumeration\n",
    "    - Enumeration : Iterator의 구버전\n",
    "    - ListIterator : Iterator 이 양방향으로 이동 가능하도록 구현\n",
    "    - hasPrevious() / previousIndex() 가능!\n",
    "\n",
    "- Iterator 와 Enumeration 의 차이\n",
    "    - Enumeration 은 자바 초기 버전에서 탄생 / Hashtable, Vector 에서 사용 가능\n",
    "    - Iterator 은 Enumeration의 확장 / Collection을 구현상속한 모든 컬렉션 클래스에서 가능"
   ]
  },
  {
   "cell_type": "markdown",
   "metadata": {},
   "source": [
    "> ### 1.6 Arrays\n",
    "\n",
    "#### 배열의 복사\n",
    "- copyOf() 배열 전체\n",
    "- copyOfRange() 배열의 범위를 복사\n",
    "```Java\n",
    "Arrays.copyOfRange(arr,2,7) // arr의 2부터 7까지 (7은 포함 x)\n",
    "```\n",
    "#### 배열 채우기 fill() setAll()\n",
    "- 배열을 채우는 데에 사용할 함수형 인터페이스를 매개변수로 받음\n",
    "- 람다식 혹은 인터페이스를 구현한 객체를 매개변수로 지정해야 함\n",
    "\n",
    "#### 배열의 정렬과 검색 sort(), binarySearch()\n",
    "- binarySearch() 값이 지정된 위치를 반환 => 이진검색을 이용해서 속도가 빠름\n",
    "```Java\n",
    "int idx = Arrays.binarySearch(arr,2); //2의 위치를 찾아줌\n",
    "```\n",
    "\n",
    "#### 배열의 비교와 출력 equals(),toString()\n",
    "- deepToString() 을 사용하면 2차원 배열도 문자열로 반환 가능\n",
    "- 2차원 배열의 비교시에 deepEquals()\n",
    "\n",
    "#### 배열을 List로 변환\n",
    "- asList => 배열을 List 에 담아서 반환\n",
    "- asList로 반환된 배열은 추가 혹은 삭제가 불가\n",
    "\n",
    "> ### 1.7 Comparator 와 Comparable\n",
    "- Comparable 을 구현하는 클래스들은 모두 같은 타입의 인스턴스끼리 비교할 수 있도록 함.\n",
    "- Comparator 로는 오름차순이 아닌 다른 기준으로 정렬하고자 할 때 사용"
   ]
  },
  {
   "cell_type": "markdown",
   "metadata": {},
   "source": [
    "> ### 1.8 HashSet\n",
    "- Set 인터페이스를 구현한 대표적인 컬렉션\n",
    "- 중복된 요소 x => 추가하려고 하면 false 반환\n",
    "- 저장 순서를 유지하려고 한다면 LinkedHashSet 을 사용해야 함"
   ]
  },
  {
   "cell_type": "markdown",
   "metadata": {},
   "source": [
    "> ### 1.9 TreeSet\n",
    "- Set 이기 때문에 중복된 데이터 x / 저장순서 유지 x\n",
    "- Comperator 을 제공하거나 Comparable 을 구현해야 함. => 그래야 맨 오른쪽 마지막 레벨에 제일 큰 값이 저장될 수 있음.\n",
    "- TreeSet(Collection c) => 주어진 컬렉션을 저장하는 셋을 생성\n",
    "```Java\n",
    "set.headSet(new Integer(50)); // 50보다 작은 값\n",
    "set.tailSet(new Integer(50)); // 50보다 큰 값\n",
    "```"
   ]
  },
  {
   "cell_type": "markdown",
   "metadata": {},
   "source": [
    "> ### 1.10 HashMap / Hashtable\n",
    "```Java\n",
    "HashMap() // HashMap 객체를 생성\n",
    "```\n",
    "#### 해싱과 해시함수\n",
    "- 해싱 : 해시테이블에 저장하고 검색하는 기법\n",
    "- 배열과 링크드리스트를 조합해서 사용"
   ]
  },
  {
   "cell_type": "markdown",
   "metadata": {},
   "source": [
    "> ### 1.11 TreeMap\n",
    "- 이진검색트리의 형태로 키-값의 쌍을 저장\n",
    "```Java\n",
    "TreeMap() // 객체 생성\n",
    "```"
   ]
  },
  {
   "cell_type": "markdown",
   "metadata": {},
   "source": [
    "> ### 1.12 Properties\n",
    "- hashtable 은 키-값의 쌍으로 저장 / Properties 는 String,String의 형태\n",
    "- 주로 환경설정과 관련된 속성을 저장하는데에 사용됨\n",
    "- getProperty() => 저장된 값을 읽어오는데, 읽어오려는 키가 없으면 기본값을 반환"
   ]
  },
  {
   "cell_type": "markdown",
   "metadata": {},
   "source": [
    "> ### 1.13 Collections\n",
    "- 컬렉션과 관련된 메서드 제공\n",
    "#### 동기화\n",
    "- 멀티 스레드 프로그래밍에서는 하나의 객체가 일관성을 유지해야 해서 동기화가 필요\n",
    "\n",
    "#### 변경불가 컬렉션\n",
    "- 데이터 보호하기 위해 읽기 전용으로 만들기\n",
    "- ex) unmodifiableSet(Set s)\n",
    "\n",
    "#### 싱글톤 컬렉션\n",
    "- 단 하나의 객체만을 저장하는 경우\n",
    "- ex) List singletonList(Object o)\n",
    "\n",
    "#### 한 종류의 객체만 저장하는 컬렉션\n",
    "- 컬렉션에는 모든 종류의 객체 저장 가능. => 지정된 한 종류만 저장하고 싶을 때 사용\n",
    "- ex) checkedCollection(Collection c, Class type);\n",
    "- 두번쨰 매개변수에 지정할 객체의 클래스 저장"
   ]
  },
  {
   "cell_type": "markdown",
   "metadata": {},
   "source": [
    "> ### 1.14 컬렉션 클래스 정리 + 요약\n",
    "- ArrayList : 배열 기반 / 데이터 추가와 삭제에 불리 / 순차적인 추가에는 빠름 / 임의의 요소에 대한 접근성 좋음\n",
    "- LinkedList : 연결 기반 / 추가와 삭제에 유리 / 임의의 요소에 대한 접근성 나쁨\n",
    "- HashMap : 배열 + 연결 / 추가 삭제 검색 접근성 모두 좋음\n",
    "- TreeMap : 연결 기반 / 정렬과 검색에 적합"
   ]
  }
 ],
 "metadata": {
  "interpreter": {
   "hash": "aee8b7b246df8f9039afb4144a1f6fd8d2ca17a180786b69acc140d282b71a49"
  },
  "kernelspec": {
   "display_name": "Python 3.10.4 64-bit",
   "language": "python",
   "name": "python3"
  },
  "language_info": {
   "name": "python",
   "version": "3.10.4"
  },
  "orig_nbformat": 4
 },
 "nbformat": 4,
 "nbformat_minor": 2
}
