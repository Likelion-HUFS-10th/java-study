{
 "cells": [
  {
   "cell_type": "markdown",
   "metadata": {},
   "source": [
    "## `지네릭스`"
   ]
  },
  {
   "cell_type": "markdown",
   "metadata": {},
   "source": [
    "#### 1.1 지네릭스란\n",
    "- 컬렉션 클래스의 컴파일 시의 타입 체크를 해주는 기능\n",
    "- 객체의 타입 안정성을 높임 => 의도하지 않은 타입의 객체의 저장을 막음 / 저장된 객체가 잘못 형변환되어 발생하는 오류를 막음\n",
    "\n",
    "#### 1.2 지네릭 클래스의 선언\n",
    "- 지네릭 타입은 클래스와 메서드에 선언 가능\n",
    "```Java\n",
    "class Box<T>{// 지네릭 타입의 선언{\n",
    "T item;\n",
    "void setItem(T item){this.item = item;}\n",
    "T getItem(){return item;}\n",
    "}\n",
    "```\n",
    "- T 는 타입 변수 => 다른 문자 써도 됨\n",
    "- 지네릭 클래스가 된 클래스의 깨체 생성할 때는 T 대신 실제 타입 지정\n",
    "```Java\n",
    "Box<String> b = new Box<String>();\n",
    "b.setItem(\"ABC\");\n",
    "String item = (String)b.getItem(); // Stirng 붙일 필요 없음\n",
    "```\n",
    "- String 붙일 필요가 없는 이유 : 지네릭스를 사용했기 때문에 형변환 안해줘도 됨\n",
    "\n",
    "#### 지네릭스의 용어\n",
    "- 타입 문자 T는 `타입 변수 / 타입 매개변수`\n",
    "- 타입 매개변수에 타입을 지정하는 것을 `지네릭 타입 호출`이라고 함\n",
    "- 지정된 타입을 `매개변수화된 타입 / 대입된 타입`이라고 함\n",
    "- 컴파일 후에는 지네릭 타입이 제거되어 원시타입이 됨\n",
    "\n",
    "#### 지네릭스의 제한\n",
    "- T는 인스턴스 변수이기 때문에 static 멤버에 타입변수 사용 불가\n",
    "- 지네릭 타입의 배열 생성 불가\n",
    "    - 이유 : new 연산자의 특성상 `T가 어떤 타입인지 미리 알아야 하는데 클래스를 컴파일하는 시점에서는 T를 모르기 때문`\n",
    "- 지네릭 배열 타입의 참조변수 선언은 가능\n"
   ]
  },
  {
   "cell_type": "markdown",
   "metadata": {},
   "source": [
    "#### 1.3 지네릭 클래스의 객체 생성과 사용\n",
    "```Java\n",
    "Box<Apple> appleBox = new Box<Grape> // 에러\n",
    "```\n",
    "- 참조변수와 생성자에 대입된 타입이 일치해야 함 / 두 타입이 상속관계에 있어도 마찬가지\n",
    "```Java\n",
    "Box<Apple> appleBox = new FruitBox<Apple>();\n",
    "```\n",
    "- 두 지네릭 클래스의 타입이 상속관계에 있고 대입된 타입이 같은 것은 괜찮음\n",
    "```Java\n",
    "Box<Apple> appleBox = new FruitBox<>();\n",
    "```\n",
    "- 생략도 가능"
   ]
  },
  {
   "cell_type": "markdown",
   "metadata": {},
   "source": [
    "#### 1.4 제한된 지네릭 클래스\n",
    "- 타입 매개변수의 타입의 종류를 제한할 수 있음.\n",
    "```Java\n",
    "class FruitBox<T extends Fruit>\n",
    "```\n",
    "- Fruit 클래스의 자손들만 담을 수 있다는 제한이 추가됨\n",
    "- 클래스가 아닌 인터페이스를 구현해야 할때도 implements 가 아닌 extends 사용"
   ]
  },
  {
   "cell_type": "markdown",
   "metadata": {},
   "source": [
    "#### 1.5 와일드 카드\n",
    "- static 메서드는 지네릭스를 적용하지 않던가 T와 같은 타입 매개변수가 아닌 특정 타입을 지정해줘야 함.\n",
    "- 지네릭 타입이 다른 것만으로는 오버로딩이 성립하지 않음. => 타입을 여러개로 같은 메서드를 사용할 수 없음.\n",
    "- 와일드 카드는 어떠한 타입도 될 수 있으며 ? 로 표현 가능\n",
    "- < ? extends T > : 와일드카드의 상한 제한 / T와 그 자손들만 가능\n",
    "- < ? super T > : 와일드카드의 하한 제한 / T와 그 조상들만 가능\n",
    "- < ? > : 제한 없음.\n",
    "\n",
    "- Comparator의 경우에는 <? super T> 가 항상 붙음.\n",
    "    - 이유 : 매번 Comparator 를 만드는 것은 비효율적이기 때문에"
   ]
  },
  {
   "cell_type": "markdown",
   "metadata": {},
   "source": [
    "#### 1.6 지네릭 메서드\n",
    "- 지네릭 타입의 선언 위치는 반환 타입 바로 앞\n",
    "- 클래스의 타입 매개변수와 메서드의 매개변수는 다른 것. 같은 문자를 사용해도 같지 않은 것임에 주의.\n",
    "- 정적 멤버변수에는 사용할 수 없지만, 정적 메서드에는 사용 가능.\n",
    "- 대입된 타입을 생략할 수 없을 때 지네릭 메서드를 호출하는 경우에는 클래스명을 생략해서는 안됨.\n",
    "```Java\n",
    "public static <T extends Comparable<? super T>> void sort(List<T> list)\n",
    "```\n",
    "- 위와 같은 상황인 경우는, 매개변수인 배열의 요소는 타입 T여야 하고, T 혹은 그 조상을 비교하는 Comparable 인터페이스를 구현한 클래스여야 한다는 것."
   ]
  },
  {
   "cell_type": "markdown",
   "metadata": {},
   "source": [
    "#### 1.7 지네릭 타입의 형변환\n",
    "- 지네릭 - raw type 간의 형변환 가능 (경고 발생)\n",
    "- 대입된 타입이 다른 지네릭 타입 간의 형변환 불가\n",
    "```Java\n",
    "Box<Object> objBox = new Box<String>(); // 에러\n",
    "```\n",
    "- 사실상 이전에 안된다고 언급한 위의 문장이 형변환을 나타내는 것이나 마찬가지!\n",
    "```Java\n",
    "Box<? extends Objects> wBox = new Box<String>(); // 가능\n",
    "```"
   ]
  },
  {
   "cell_type": "markdown",
   "metadata": {},
   "source": [
    "#### 1.8 지네릭 타입의 제거\n",
    "- 컴파일러는 지네릭 타입으로 소스파일을 체크하고 필요한 곳에 형변환을 넣음 => 지네릭 타입 제거\n",
    "- 따라서 컴파일 된 파일에는 지네릭 타입에 대한 정보가 없음.\n",
    "- 지네릭 타입의 제거 과정\n",
    "    1. 지네릭 타입의 경계를 제거\n",
    "    - T extends Fruit 인 경우 T는 Fruit 로 치환 / 클래스 옆의 선언이 제거됨\n",
    "    2. 지네릭 타입 제거 이후 타입이 일치하지 않으면 형변환 추가"
   ]
  },
  {
   "cell_type": "markdown",
   "metadata": {},
   "source": [
    "## `열거형`"
   ]
  },
  {
   "cell_type": "markdown",
   "metadata": {},
   "source": [
    "#### 2.1 열거형이란\n",
    "- 서로 관련된 상수를 편리하게 선언하기 위해 사용됨.\n",
    "- 여러 상수 정의 시에 유용\n",
    "- 값뿐만 아니라 타입까지 체크 => 논리적인 오류 줄일 수 있음.\n",
    "\n",
    "#### 2.2 열거형의 정의와 사용\n",
    "- 괄호 안에 상수의 이름을 나열하면 됨\n",
    "```Java\n",
    "enum 열거형이름 {상수명1, 상수명2 . . .}\n",
    "```\n",
    "- `뒤에 ; 없음!`\n",
    "- `열거형이름.상수명` 으로 사용 가능.\n",
    "- == 사용 가능\n",
    "- 비교연산자 <, > 사용 불가\n",
    "- CompareTo() 사용 가능\n",
    "- switch 문에서는 열거형이름을 쓰지 않고 상수명만 써야 함."
   ]
  },
  {
   "cell_type": "markdown",
   "metadata": {},
   "source": [
    "#### 모든 열거형의 조상 java.lang.Enum\n",
    "- class<E> getDeclaringClass() : 열거형의 Class 객체를 반환\n",
    "- String name() : 열거형 상수의 이름을 문자열로 반환\n",
    "- int ordinal() : 열거형 상수가 정의된 순서를 반환\n",
    "- T valueOf(class<T> enumType, String name) : 지정된 열거형에서 name 과 일치하는 열거형 상수를 반환"
   ]
  },
  {
   "cell_type": "markdown",
   "metadata": {},
   "source": [
    "#### 2.3 열거형에 멤버 추가하기\n",
    "- ordinal 을 통해서가 아닌 열거형 상수의 값을 정의하고자 하는 경우에는 열거형 상수의 이름 옆에 원하는 값을 괄호 안에 적음\n",
    "```Java\n",
    "enum.Direction{East(1),SOUTH(5),WEST(-1)}\n",
    "```"
   ]
  },
  {
   "cell_type": "markdown",
   "metadata": {},
   "source": [
    "#### 2.4 열거형의 이해\n",
    "- 열거형의 상수는 주소를 이용하므로 == 로 비교가 가능."
   ]
  },
  {
   "cell_type": "markdown",
   "metadata": {},
   "source": [
    "## `애너테이션`\n",
    "\n",
    "#### 3.1 애너테이션이란\n",
    "- 주석처럼 프로그래밍 언어에 영향을 미치지 않으면서도 유용한 정보 제공 가능.\n",
    "- 테스트하고자 하는 메서드의 위에 @Test 를 붙이면 해당 메서드를 테스트하겠다는 정보 제공\n",
    "\n",
    "#### 3.2 표준 애너테이션\n",
    "- @Override\n",
    "    - 메서드 앞에만 붙일 수 있음.\n",
    "    - 조상의 메서드를 오버라이딩할 것임을 알려줌.\n",
    "    - 같은 이름의 메서드가 조상에 없으면 에러메시지 출력\n",
    "\n",
    "- @Deprecated\n",
    "    - 더 이상 사용되지 않는 필드나 메서드에\n",
    "    - 해당 어노테이션이 붙은 코드를 작성하면 컴파일 시에 경고 메시지가 나옴\n",
    "    - 사용하지 말라는 강제성은 없음.\n",
    "\n",
    "- @FunctionalInterface\n",
    "    - 함수형 인터페이스를 올바르게 선언했는지 확인하고 잘못된 경우 에러 발생\n",
    "\n",
    "- @SuppressWarnings\n",
    "    - 경고메시지가 나타나지 않게 억제\n",
    "    - 형태 : @SuppressWarnings({\"억제하고자 하는 경고\"})\n",
    "\n",
    "- @SafeVarags\n",
    "    - 지네릭스에서 어떤 타입들은 컴파일 이후에 제거됨.\n",
    "    - static이나 final 이 붙은 메서드와 생성자에만 쓸 수 있음. = 오버라이드 될 수 있는 메서드에서는 사용할 수 없음.\n",
    "    - 메서드의 가변인자의 타입이 non-refiable 타입인 경우 unchecked 경고가 발생함.\n",
    "    - 지네릭스에서의 타입들은 대부분 컴파일 후에 제거됨. => 컴파일 후에도 제거되지 않는 타입이 `refiable` / 제거되는 타입을 `non-refiable`\n"
   ]
  },
  {
   "cell_type": "markdown",
   "metadata": {},
   "source": [
    "#### 3.3 메타 애너테이션\n",
    "- 애너테이션에 붙이는 애너테이션\n",
    "\n",
    "- @Target\n",
    "    - 애너테이션이 적용가능한 대상을 지정하는데에 사용\n",
    "    ```Java\n",
    "    @Target({TYPE,FIELD,METHOD,PARAMETER})\n",
    "    public @interface SuppressWarnings{\n",
    "\n",
    "    }\n",
    "    ```\n",
    "    - FIELD : 멤버변수, enum 상수\n",
    "    - TYPE : 타입 선언 시에\n",
    "    - TYPE_USE : 해당 타입의 변수 선언 시에\n",
    "\n",
    "- @Retention\n",
    "    - 애너테이션 유지 기간을 지정\n",
    "    - SOURCE : 소스 파일에만 존재 / 클래스 파일에는 없음\n",
    "    - CLASS : 클래스 파일에 존재 / 실행시에 사용 불가\n",
    "    - RUNTIME : 클래스 파일에 존재 / 실행시에 사용 가능\n",
    "\n",
    "- @Documented\n",
    "    - 애너테이션에 대한 정보가 문서에 포함되도록\n",
    "\n",
    "- @Inherited\n",
    "    - 애너테이션이 자손 클래스에 상속되도록\n",
    "\n",
    "- @Repetable\n",
    "    - 하나의 대상에 한 종류의 애너테이션 / Repeatable 이면 여러번 애너테이션 붙일 수 있음\n",
    "\n",
    "- @Native\n",
    "    - 상수 필드에 붙이는 애너테이션\n",
    "    - JVM이 설치된 OS의 메서드"
   ]
  },
  {
   "cell_type": "markdown",
   "metadata": {},
   "source": [
    "#### 3.4 애너테이션 타입 정의하기\n",
    "- interface 를 정의하는 것과 사실상 동일\n",
    "- 애너테이션의 요소\n",
    "    - 애너테이션 내에 선언된 메서드 => 적용시에 빠짐없이 적어주어야 함\n",
    "    - 요소의 타입이 배열이라면 괄호 사용 가능 / 기본값 지정 시에도 사용 가능\n",
    "\n",
    "#### 마커 애너테이션\n",
    "- 애너테이션 요소의 규칙\n",
    "    1. 기본형, String, enum, Class만 허용된다\n",
    "    2. () 안에 매개변수 선언 불가\n",
    "    3. 예외 선언 불가\n",
    "    4. 요소를 타입 매개변수로 정의 불가\n",
    "\n",
    "- 애너테이션의 정보도 포함되어 있음.\n",
    "- getAnnotation() 메서드 매개변수로 정보를 얻고자 하는 애너테이션 지정하면 사용 가능"
   ]
  },
  {
   "cell_type": "markdown",
   "metadata": {},
   "source": [
    "### 질문\n",
    "- 지네릭 타입의 배열 생성 불가\n",
    "    - 이유 : new 연산자의 특성상 `T가 어떤 타입인지 미리 알아야 하는데 클래스를 컴파일하는 시점에서는 T를 모르기 때문`\n",
    "- 이라고 했는데, 왜 타입이 확정되지 않은 와일드카드의 경우에는 new 연산자를 사용할 수 있는지?"
   ]
  }
 ],
 "metadata": {
  "language_info": {
   "name": "python"
  },
  "orig_nbformat": 4
 },
 "nbformat": 4,
 "nbformat_minor": 2
}
